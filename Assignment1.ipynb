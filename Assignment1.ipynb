{
  "nbformat": 4,
  "nbformat_minor": 0,
  "metadata": {
    "colab": {
      "provenance": [],
      "authorship_tag": "ABX9TyO8pOE8bEDg4rhpAETIClK7",
      "include_colab_link": true
    },
    "kernelspec": {
      "name": "python3",
      "display_name": "Python 3"
    },
    "language_info": {
      "name": "python"
    }
  },
  "cells": [
    {
      "cell_type": "markdown",
      "metadata": {
        "id": "view-in-github",
        "colab_type": "text"
      },
      "source": [
        "<a href=\"https://colab.research.google.com/github/archisonal/Deep-Learning/blob/main/Assignment1.ipynb\" target=\"_parent\"><img src=\"https://colab.research.google.com/assets/colab-badge.svg\" alt=\"Open In Colab\"/></a>"
      ]
    },
    {
      "cell_type": "markdown",
      "source": [
        "PART - C"
      ],
      "metadata": {
        "id": "UPjxrXuPR-pC"
      }
    },
    {
      "cell_type": "markdown",
      "source": [
        "Question 7: Write a program to compare the performance of SGD, Adam, and RMSprop optimizers on a given dataset.\n",
        "\n",
        "Prerequisites\n",
        "*   Basic knowledge of machine learning and neural networks\n",
        "*   Understanding of optimization algorithms (SGD, RMSprop, Adam)\n",
        "*   Familiarity with NumPy and Pandas\n",
        "*   Scikit-learn for data preprocessing\n",
        "\n",
        "KEY POINTS\n",
        "*   Uses a simple neural network with one hidden layer\n",
        "*   Implements optimizers without using deep learning frameworks (Keras, PyTorch, TensorFlow)\n",
        "\n",
        "*   Evaluates optimizer performance based on loss and accuracy\n"
      ],
      "metadata": {
        "id": "4DN7nvj0SHNS"
      }
    },
    {
      "cell_type": "code",
      "source": [
        "# Importing required libraries\n",
        "import numpy as np\n",
        "import pandas as pd\n",
        "from sklearn.model_selection import train_test_split\n",
        "from sklearn.preprocessing import OneHotEncoder, StandardScaler\n",
        "from sklearn.datasets import load_iris"
      ],
      "metadata": {
        "id": "ENsnFsW_Qp3H"
      },
      "execution_count": 2,
      "outputs": []
    },
    {
      "cell_type": "code",
      "source": [
        "# Importing dataset\n",
        "iris = load_iris()\n",
        "X = iris.data #extract features\n",
        "y = iris.target.reshape(-1, 1) #extract target"
      ],
      "metadata": {
        "id": "verT6RL2QoB-"
      },
      "execution_count": 3,
      "outputs": []
    },
    {
      "cell_type": "code",
      "source": [
        "# Perform one-hot encoding\n",
        "encode = OneHotEncoder(sparse_output = False)\n",
        "y = encode.fit_transform(y)\n",
        "\n",
        "# Normalize input features\n",
        "scalar = StandardScaler()\n",
        "X = scalar.fit_transform(X)\n",
        "\n",
        "# Split into training and testing sets\n",
        "X_train, X_test, y_train, y_test = train_test_split(X, y, test_size = 0.2, random_state = 42)"
      ],
      "metadata": {
        "id": "cS7RZbEDRmKs"
      },
      "execution_count": 4,
      "outputs": []
    },
    {
      "cell_type": "code",
      "source": [
        "# Initialize neural network parameters\n",
        "input_size = X.shape[1]\n",
        "hidden_size = 10\n",
        "output_size = y.shape[1]\n",
        "np.random.seed(42)\n",
        "\n",
        "weights_input_hidden = np.random.randn(input_size, hidden_size) * 0.01\n",
        "bias_hidden = np.zeros((1, hidden_size))\n",
        "weights_hidden_output = np.random.randn(hidden_size, output_size) * 0.01\n",
        "bias_output = np.zeros((1, output_size))"
      ],
      "metadata": {
        "id": "o2zsihPCQ5o6"
      },
      "execution_count": 5,
      "outputs": []
    },
    {
      "cell_type": "code",
      "source": [
        "# Activation and loss functions\n",
        "def softmax(z):\n",
        "    exp_z = np.exp(z - np.max(z, axis=1, keepdims=True))\n",
        "    return exp_z / np.sum(exp_z, axis=1, keepdims=True)\n",
        "\n",
        "def relu(z):\n",
        "    return np.maximum(0, z)\n",
        "\n",
        "def relu_derivative(z):\n",
        "    return (z > 0).astype(float)\n",
        "\n",
        "def cross_entropy_loss(y_true, y_pred):\n",
        "    return -np.mean(np.sum(y_true * np.log(y_pred + 1e-8), axis=1))\n",
        "\n",
        "def accuracy(y_true, y_pred):\n",
        "    return np.mean(np.argmax(y_true, axis=1) == np.argmax(y_pred, axis=1))"
      ],
      "metadata": {
        "id": "F-mAObfFRDvw"
      },
      "execution_count": 6,
      "outputs": []
    },
    {
      "cell_type": "code",
      "source": [
        "# Optimizer functions\n",
        "class SGD:\n",
        "    def __init__(self, lr=0.01):\n",
        "        self.lr = lr\n",
        "    def update(self, w, dw):\n",
        "        return w - self.lr * dw\n",
        "\n",
        "class RMSprop:\n",
        "    def __init__(self, lr=0.01, beta=0.9, epsilon=1e-8):\n",
        "        self.lr = lr\n",
        "        self.beta = beta\n",
        "        self.epsilon = epsilon\n",
        "        self.sq_grad = None\n",
        "    def update(self, w, dw):\n",
        "        if self.sq_grad is None:\n",
        "            self.sq_grad = np.zeros_like(dw)\n",
        "        self.sq_grad = self.beta * self.sq_grad + (1 - self.beta) * dw**2\n",
        "        return w - (self.lr / (np.sqrt(self.sq_grad) + self.epsilon)) * dw\n",
        "\n",
        "class Adam:\n",
        "    def __init__(self, lr=0.01, beta1=0.9, beta2=0.999, epsilon=1e-8):\n",
        "        self.lr = lr\n",
        "        self.beta1 = beta1\n",
        "        self.beta2 = beta2\n",
        "        self.epsilon = epsilon\n",
        "        self.m = None\n",
        "        self.v = None\n",
        "        self.t = 0\n",
        "    def update(self, w, dw):\n",
        "        if self.m is None:\n",
        "            self.m = np.zeros_like(dw)\n",
        "            self.v = np.zeros_like(dw)\n",
        "        self.t += 1\n",
        "        self.m = self.beta1 * self.m + (1 - self.beta1) * dw\n",
        "        self.v = self.beta2 * self.v + (1 - self.beta2) * (dw ** 2)\n",
        "        m_hat = self.m / (1 - self.beta1 ** self.t)\n",
        "        v_hat = self.v / (1 - self.beta2 ** self.t)\n",
        "        return w - (self.lr * m_hat) / (np.sqrt(v_hat) + self.epsilon)"
      ],
      "metadata": {
        "id": "CqP2grh_RH-y"
      },
      "execution_count": 8,
      "outputs": []
    },
    {
      "cell_type": "code",
      "source": [
        "# Training function\n",
        "def train(optimizer_class, epochs=500):\n",
        "    np.random.seed(42)\n",
        "    w1, b1, w2, b2 = weights_input_hidden.copy(), bias_hidden.copy(), weights_hidden_output.copy(), bias_output.copy()\n",
        "    optimizer_w1, optimizer_b1 = optimizer_class(), optimizer_class()\n",
        "    optimizer_w2, optimizer_b2 = optimizer_class(), optimizer_class()\n",
        "\n",
        "    for epoch in range(epochs):\n",
        "        # Forward pass\n",
        "        hidden_layer = relu(np.dot(X_train, w1) + b1)\n",
        "        output_layer = softmax(np.dot(hidden_layer, w2) + b2)\n",
        "        loss = cross_entropy_loss(y_train, output_layer)\n",
        "\n",
        "        # Backward pass\n",
        "        output_error = output_layer - y_train\n",
        "        hidden_error = np.dot(output_error, w2.T) * relu_derivative(hidden_layer)\n",
        "\n",
        "        dw2 = np.dot(hidden_layer.T, output_error) / len(X_train)\n",
        "        db2 = np.mean(output_error, axis=0, keepdims=True)\n",
        "        dw1 = np.dot(X_train.T, hidden_error) / len(X_train)\n",
        "        db1 = np.mean(hidden_error, axis=0, keepdims=True)\n",
        "\n",
        "        # Update parameters\n",
        "        w2 = optimizer_w2.update(w2, dw2)\n",
        "        b2 = optimizer_b2.update(b2, db2)\n",
        "        w1 = optimizer_w1.update(w1, dw1)\n",
        "        b1 = optimizer_b1.update(b1, db1)\n",
        "\n",
        "    # Evaluate accuracy\n",
        "    hidden_layer = relu(np.dot(X_test, w1) + b1) # This line was incorrectly indented. Fixed by removing the extra indentation.\n",
        "    output_layer = softmax(np.dot(hidden_layer, w2) + b2)\n",
        "    acc = accuracy(y_test, output_layer)\n",
        "    return loss, acc"
      ],
      "metadata": {
        "id": "i0L-R5BhRRY2"
      },
      "execution_count": 9,
      "outputs": []
    },
    {
      "cell_type": "code",
      "source": [
        "# Run experiments\n",
        "optimizers = {'SGD': SGD, 'RMSprop': RMSprop, 'Adam': Adam}\n",
        "results = {}\n",
        "\n",
        "for name, opt_class in optimizers.items():\n",
        "    loss, acc = train(opt_class)\n",
        "    results[name] = {'Final Loss': loss, 'Test Accuracy': acc}\n",
        "\n",
        "# Display results\n",
        "results_df = pd.DataFrame(results).T\n",
        "print(results_df)\n"
      ],
      "metadata": {
        "colab": {
          "base_uri": "https://localhost:8080/"
        },
        "id": "EDhgMq7IRZ3s",
        "outputId": "270f270c-6568-4d9b-b3fd-a653a87de208"
      },
      "execution_count": 10,
      "outputs": [
        {
          "output_type": "stream",
          "name": "stdout",
          "text": [
            "         Final Loss  Test Accuracy\n",
            "SGD        1.034391       0.633333\n",
            "RMSprop    0.043158       1.000000\n",
            "Adam       0.047037       1.000000\n"
          ]
        }
      ]
    },
    {
      "cell_type": "markdown",
      "source": [
        "PRECAUTIONS:\n",
        "\n",
        "\n",
        "*   Ensure the dataset is correctly preprocessed (one-hot encoding and normalization)\n",
        "*   Use appropriate hyperparameters for each optimizer\n",
        "*   Avoid vanishing/exploding gradients by initializing weights properly\n",
        "\n"
      ],
      "metadata": {
        "id": "eSo-P7_5ReRX"
      }
    },
    {
      "cell_type": "markdown",
      "source": [
        "Question 8: Implement a neural network for binary classification and test different activation functions like ReLU, Sigmoid, and Tanh.\n",
        "\n",
        "PREREQUISITES:\n",
        "\n",
        "*   Basic Understanding of Python and Numpy\n",
        "*   Knowledge of Neural Networks and Activation Functions\n",
        "*   Familiarity with the Iris dataset\n",
        "\n",
        "KEY TERMS:\n",
        "\n",
        "\n",
        "*   Neural Network\n",
        "*   Activation Functions (ReLU, Sigmoid, Tanh)\n",
        "*   Backpropogation\n",
        "*   Gradient Descent\n",
        "*   Binary Classification"
      ],
      "metadata": {
        "id": "ewHWQqJSTKBO"
      }
    },
    {
      "cell_type": "code",
      "source": [
        "# Importing Libraries\n",
        "import numpy as np\n",
        "import pandas as pd\n",
        "import matplotlib.pyplot as plt\n",
        "from sklearn.model_selection import train_test_split\n",
        "from sklearn.preprocessing import StandardScaler, LabelBinarizer\n",
        "from sklearn.datasets import load_iris"
      ],
      "metadata": {
        "id": "jv1EPvlLUXcU"
      },
      "execution_count": 11,
      "outputs": []
    },
    {
      "cell_type": "code",
      "source": [
        "# Load Iris dataset\n",
        "iris = load_iris()\n",
        "data = pd.DataFrame(iris.data, columns=iris.feature_names)\n",
        "data['target'] = iris.target\n",
        "\n",
        "# Select only two classes for binary classification\n",
        "data = data[data['target'] != 2]\n",
        "X = data.iloc[:, :-1].values\n",
        "y = data.iloc[:, -1].values"
      ],
      "metadata": {
        "id": "6-DmdrznUd5b"
      },
      "execution_count": 12,
      "outputs": []
    },
    {
      "cell_type": "code",
      "source": [
        "# Normalize features\n",
        "scaler = StandardScaler()\n",
        "X = scaler.fit_transform(X)\n",
        "\n",
        "# Convert labels to binary format\n",
        "y = y.reshape(-1, 1)\n",
        "\n",
        "# Split dataset\n",
        "X_train, X_test, y_train, y_test = train_test_split(X, y, test_size=0.2, random_state=42)"
      ],
      "metadata": {
        "id": "039GnDUOUkAK"
      },
      "execution_count": 14,
      "outputs": []
    },
    {
      "cell_type": "code",
      "source": [
        "# Activation functions\n",
        "def sigmoid(x):\n",
        "    return 1 / (1 + np.exp(-x))\n",
        "\n",
        "def sigmoid_derivative(x):\n",
        "    return x * (1 - x)\n",
        "\n",
        "def tanh(x):\n",
        "    return np.tanh(x)\n",
        "\n",
        "def tanh_derivative(x):\n",
        "    return 1 - x ** 2\n",
        "\n",
        "def relu(x):\n",
        "    return np.maximum(0, x)\n",
        "\n",
        "def relu_derivative(x):\n",
        "    return (x > 0).astype(float)"
      ],
      "metadata": {
        "id": "XS1mkt9_UnK4"
      },
      "execution_count": 15,
      "outputs": []
    },
    {
      "cell_type": "code",
      "source": [
        "# Neural network class\n",
        "class NeuralNetwork:\n",
        "    def __init__(self, input_size, hidden_size, output_size, activation='sigmoid'):\n",
        "        self.input_size = input_size\n",
        "        self.hidden_size = hidden_size\n",
        "        self.output_size = output_size\n",
        "        self.weights_input_hidden = np.random.randn(self.input_size, self.hidden_size)\n",
        "        self.weights_hidden_output = np.random.randn(self.hidden_size, self.output_size)\n",
        "        self.bias_hidden = np.zeros((1, self.hidden_size))\n",
        "        self.bias_output = np.zeros((1, self.output_size))\n",
        "        self.set_activation_function(activation)\n",
        "        self.loss_history = []\n",
        "\n",
        "    def set_activation_function(self, activation):\n",
        "        if activation == 'sigmoid':\n",
        "            self.activation = sigmoid\n",
        "            self.activation_derivative = sigmoid_derivative\n",
        "        elif activation == 'tanh':\n",
        "            self.activation = tanh\n",
        "            self.activation_derivative = tanh_derivative\n",
        "        elif activation == 'relu':\n",
        "            self.activation = relu\n",
        "            self.activation_derivative = relu_derivative\n",
        "        else:\n",
        "            raise ValueError(\"Invalid activation function\")\n",
        "\n",
        "    def forward(self, X):\n",
        "        self.hidden_input = np.dot(X, self.weights_input_hidden) + self.bias_hidden\n",
        "        self.hidden_output = self.activation(self.hidden_input)\n",
        "        self.final_input = np.dot(self.hidden_output, self.weights_hidden_output) + self.bias_output\n",
        "        self.final_output = sigmoid(self.final_input)  # Output layer is always sigmoid for binary classification\n",
        "        return self.final_output\n",
        "\n",
        "    def backward(self, X, y, learning_rate):\n",
        "        error = y - self.final_output\n",
        "        output_gradient = error * sigmoid_derivative(self.final_output)\n",
        "        hidden_error = output_gradient.dot(self.weights_hidden_output.T)\n",
        "        hidden_gradient = hidden_error * self.activation_derivative(self.hidden_output)\n",
        "\n",
        "        # Update weights and biases\n",
        "        self.weights_hidden_output += self.hidden_output.T.dot(output_gradient) * learning_rate\n",
        "        self.bias_output += np.sum(output_gradient, axis=0, keepdims=True) * learning_rate\n",
        "        self.weights_input_hidden += X.T.dot(hidden_gradient) * learning_rate\n",
        "        self.bias_hidden += np.sum(hidden_gradient, axis=0, keepdims=True) * learning_rate\n",
        "\n",
        "    def train(self, X, y, epochs=1000, learning_rate=0.01): # Added the train method within the class definition\n",
        "        for epoch in range(epochs):\n",
        "            self.forward(X)\n",
        "            self.backward(X, y, learning_rate)\n",
        "            loss = np.mean(np.square(y - self.final_output))\n",
        "            self.loss_history.append(loss)\n",
        "            if epoch % 100 == 0:\n",
        "                print(f'Epoch {epoch}, Loss: {loss:.4f}')\n",
        "\n",
        "    def predict(self, X):\n",
        "        return (self.forward(X) > 0.5).astype(int)"
      ],
      "metadata": {
        "id": "n162J6kEUqre"
      },
      "execution_count": 16,
      "outputs": []
    },
    {
      "cell_type": "code",
      "source": [
        "# Train and evaluate the model for different activation functions\n",
        "for activation in ['sigmoid', 'tanh', 'relu']:\n",
        "    print(f'\\nTraining with {activation} activation')\n",
        "    nn = NeuralNetwork(input_size=4, hidden_size=5, output_size=1, activation=activation)\n",
        "    nn.train(X_train, y_train, epochs=1000, learning_rate=0.01)\n",
        "\n",
        "    predictions = nn.predict(X_test)\n",
        "    accuracy = np.mean(predictions == y_test)\n",
        "    print(f'Accuracy with {activation}: {accuracy:.4f}')\n",
        "\n",
        "    # Plot loss curve\n",
        "    plt.plot(nn.loss_history, label=activation)\n",
        "\n",
        "plt.xlabel('Epochs')\n",
        "plt.ylabel('Loss')\n",
        "plt.title('Loss Curve for Different Activation Functions')\n",
        "plt.legend()\n",
        "plt.show()"
      ],
      "metadata": {
        "colab": {
          "base_uri": "https://localhost:8080/",
          "height": 1000
        },
        "id": "-lvnhPslUwdt",
        "outputId": "cb35b0c8-6b88-416d-d03b-7c2869b0c8d8"
      },
      "execution_count": 17,
      "outputs": [
        {
          "output_type": "stream",
          "name": "stdout",
          "text": [
            "\n",
            "Training with sigmoid activation\n",
            "Epoch 0, Loss: 0.1463\n",
            "Epoch 100, Loss: 0.0102\n",
            "Epoch 200, Loss: 0.0048\n",
            "Epoch 300, Loss: 0.0031\n",
            "Epoch 400, Loss: 0.0023\n",
            "Epoch 500, Loss: 0.0018\n",
            "Epoch 600, Loss: 0.0015\n",
            "Epoch 700, Loss: 0.0012\n",
            "Epoch 800, Loss: 0.0011\n",
            "Epoch 900, Loss: 0.0009\n",
            "Accuracy with sigmoid: 1.0000\n",
            "\n",
            "Training with tanh activation\n",
            "Epoch 0, Loss: 0.0946\n",
            "Epoch 100, Loss: 0.0023\n",
            "Epoch 200, Loss: 0.0012\n",
            "Epoch 300, Loss: 0.0008\n",
            "Epoch 400, Loss: 0.0006\n",
            "Epoch 500, Loss: 0.0005\n",
            "Epoch 600, Loss: 0.0004\n",
            "Epoch 700, Loss: 0.0003\n",
            "Epoch 800, Loss: 0.0003\n",
            "Epoch 900, Loss: 0.0003\n",
            "Accuracy with tanh: 1.0000\n",
            "\n",
            "Training with relu activation\n",
            "Epoch 0, Loss: 0.4413\n",
            "Epoch 100, Loss: 0.0023\n",
            "Epoch 200, Loss: 0.0010\n",
            "Epoch 300, Loss: 0.0007\n",
            "Epoch 400, Loss: 0.0005\n",
            "Epoch 500, Loss: 0.0004\n",
            "Epoch 600, Loss: 0.0003\n",
            "Epoch 700, Loss: 0.0003\n",
            "Epoch 800, Loss: 0.0002\n",
            "Epoch 900, Loss: 0.0002\n",
            "Accuracy with relu: 1.0000\n"
          ]
        },
        {
          "output_type": "display_data",
          "data": {
            "text/plain": [
              "<Figure size 640x480 with 1 Axes>"
            ],
            "image/png": "[encoded data removed]"
          },
          "metadata": {}
        }
      ]
    },
    {
      "cell_type": "markdown",
      "source": [
        "PRECAUTIONS:\n",
        "\n",
        "\n",
        "*   Ensure proper data preprocessing (normalization, binary classification)\n",
        "*   Handle numerical stability in activation functions (e.g., avoiding large exponential values in Sigmoid)\n",
        "*   Select an appropriate learning rate to prevent overfitting or underfitting\n",
        "*   Monitor loss convergence during training"
      ],
      "metadata": {
        "id": "JXYDMAJIU46I"
      }
    },
    {
      "cell_type": "markdown",
      "source": [
        "Question 9: Implement a neural network to solve a multi-class classification problem and evaluate different weight initialization techniques.\n",
        "\n",
        "PREREQUISITES:\n",
        "*   Understanding of machine learning concepts, particularly neural networks.\n",
        "*   Familiarity with NumPy, Pandas, and Matplotlib.\n",
        "*   Basic knowledge of backpropagation and activation functions.\n",
        "\n",
        "KEY POINTS:\n",
        "*   Uses the Iris dataset for multi-class classification.\n",
        "*   Implements forward propagation, ReLU/softmax activation functions, and backpropagation.\n",
        "*   Initializes weights and biases manually.\n",
        "*   Trains the model using gradient descent with categorical cross-entropy loss.\n",
        "*   Evaluates model performance using a loss curve.\n"
      ],
      "metadata": {
        "id": "P46NpDYZVRbF"
      }
    },
    {
      "cell_type": "code",
      "source": [
        "# Importing Libraries\n",
        "import numpy as np\n",
        "import pandas as pd\n",
        "import matplotlib.pyplot as plt\n",
        "from sklearn.model_selection import train_test_split\n",
        "from sklearn.preprocessing import StandardScaler, OneHotEncoder\n",
        "from sklearn.datasets import load_iris"
      ],
      "metadata": {
        "id": "Yh7IWUxZWDmj"
      },
      "execution_count": 18,
      "outputs": []
    },
    {
      "cell_type": "code",
      "source": [
        "# Load Iris dataset\n",
        "data = load_iris()\n",
        "X = data.data  # Features\n",
        "y = data.target.reshape(-1, 1)  # Labels\n",
        "num_classes = len(np.unique(y))\n",
        "num_features = X.shape[1]\n",
        "\n",
        "# One-hot encode labels\n",
        "ohe = OneHotEncoder(sparse_output=False)\n",
        "y_encoded = ohe.fit_transform(y)"
      ],
      "metadata": {
        "id": "3xCM6fKyWLTc"
      },
      "execution_count": 19,
      "outputs": []
    },
    {
      "cell_type": "code",
      "source": [
        "# Train-test split\n",
        "X_train, X_test, y_train, y_test = train_test_split(X, y_encoded, test_size=0.2, random_state=42)\n",
        "\n",
        "# Normalize features\n",
        "scaler = StandardScaler()\n",
        "X_train = scaler.fit_transform(X_train)\n",
        "X_test = scaler.transform(X_test)"
      ],
      "metadata": {
        "id": "_rHWnavdWO_h"
      },
      "execution_count": 20,
      "outputs": []
    },
    {
      "cell_type": "code",
      "source": [
        "# Initialize weights and biases\n",
        "def initialize_weights(layers):\n",
        "    np.random.seed(42)\n",
        "    weights = {}\n",
        "    for i in range(len(layers) - 1):\n",
        "        weights[f'W{i+1}'] = np.random.randn(layers[i], layers[i+1]) * 0.01\n",
        "        weights[f'b{i+1}'] = np.zeros((1, layers[i+1]))\n",
        "    return weights"
      ],
      "metadata": {
        "id": "zUkLGkFnWS-7"
      },
      "execution_count": 21,
      "outputs": []
    },
    {
      "cell_type": "code",
      "source": [
        "# Activation functions\n",
        "def relu(Z):\n",
        "    return np.maximum(0, Z)\n",
        "\n",
        "def softmax(Z):\n",
        "    expZ = np.exp(Z - np.max(Z, axis=1, keepdims=True))\n",
        "    return expZ / np.sum(expZ, axis=1, keepdims=True)"
      ],
      "metadata": {
        "id": "BVsPvHwTWYlj"
      },
      "execution_count": 22,
      "outputs": []
    },
    {
      "cell_type": "code",
      "source": [
        "# Forward propagation\n",
        "def forward_propagation(X, weights, layers):\n",
        "    activations = {'A0': X}\n",
        "    for i in range(1, len(layers) - 1):\n",
        "        Z = np.dot(activations[f'A{i-1}'], weights[f'W{i}']) + weights[f'b{i}']\n",
        "        activations[f'A{i}'] = relu(Z)\n",
        "    Z_final = np.dot(activations[f'A{len(layers)-2}'], weights[f'W{len(layers)-1}']) + weights[f'b{len(layers)-1}']\n",
        "    activations[f'A{len(layers)-1}'] = softmax(Z_final)\n",
        "    return activations"
      ],
      "metadata": {
        "id": "0WrNf6vQWaP2"
      },
      "execution_count": 23,
      "outputs": []
    },
    {
      "cell_type": "code",
      "source": [
        "# Compute loss\n",
        "def compute_loss(y_true, y_pred):\n",
        "    return -np.mean(y_true * np.log(y_pred + 1e-9))\n",
        "\n",
        "# Backpropagation\n",
        "def backward_propagation(X, y, weights, activations, layers, learning_rate):\n",
        "    grads = {}\n",
        "    m = X.shape[0]\n",
        "    dZ = activations[f'A{len(layers)-1}'] - y\n",
        "\n",
        "    for i in reversed(range(1, len(layers))):\n",
        "        grads[f'dW{i}'] = np.dot(activations[f'A{i-1}'].T, dZ) / m\n",
        "        grads[f'db{i}'] = np.sum(dZ, axis=0, keepdims=True) / m\n",
        "        if i > 1:\n",
        "            dZ = np.dot(dZ, weights[f'W{i}'].T) * (activations[f'A{i-1}'] > 0)\n",
        "        weights[f'W{i}'] -= learning_rate * grads[f'dW{i}']\n",
        "        weights[f'b{i}'] -= learning_rate * grads[f'db{i}']\n",
        "    return weights"
      ],
      "metadata": {
        "id": "JTGp9wGqWgu-"
      },
      "execution_count": 24,
      "outputs": []
    },
    {
      "cell_type": "code",
      "source": [
        "# Train model\n",
        "def train(X_train, y_train, layers, learning_rate=0.01, epochs=100):\n",
        "    weights = initialize_weights(layers)\n",
        "    loss_history = []\n",
        "    for epoch in range(epochs):\n",
        "        activations = forward_propagation(X_train, weights, layers)\n",
        "        loss = compute_loss(y_train, activations[f'A{len(layers)-1}'])\n",
        "        loss_history.append(loss)\n",
        "        weights = backward_propagation(X_train, y_train, weights, activations, layers, learning_rate)\n",
        "        if epoch % 10 == 0:\n",
        "            print(f\"Epoch {epoch}, Loss: {loss}\")\n",
        "    return weights, loss_history"
      ],
      "metadata": {
        "id": "EcfkoZCjWigy"
      },
      "execution_count": 25,
      "outputs": []
    },
    {
      "cell_type": "code",
      "source": [
        "# Model architecture\n",
        "layers = [num_features, 64, 64, num_classes]\n",
        "\n",
        "# Train the model\n",
        "weights, loss_history = train(X_train, y_train, layers, learning_rate=0.01, epochs=100)"
      ],
      "metadata": {
        "colab": {
          "base_uri": "https://localhost:8080/"
        },
        "id": "e6VNKsMEWm4B",
        "outputId": "868fd1fd-c5c3-4e8b-d2a9-c694f84e74f3"
      },
      "execution_count": 26,
      "outputs": [
        {
          "output_type": "stream",
          "name": "stdout",
          "text": [
            "Epoch 0, Loss: 0.3662037970520345\n",
            "Epoch 10, Loss: 0.36619576389996605\n",
            "Epoch 20, Loss: 0.366188678043615\n",
            "Epoch 30, Loss: 0.36618238452293866\n",
            "Epoch 40, Loss: 0.366176725655528\n",
            "Epoch 50, Loss: 0.3661715731719634\n",
            "Epoch 60, Loss: 0.3661669266196387\n",
            "Epoch 70, Loss: 0.36616262405999\n",
            "Epoch 80, Loss: 0.36615859150203595\n",
            "Epoch 90, Loss: 0.3661547876972094\n"
          ]
        }
      ]
    },
    {
      "cell_type": "code",
      "source": [
        "# Plot loss curve\n",
        "plt.plot(loss_history)\n",
        "plt.xlabel('Epochs')\n",
        "plt.ylabel('Loss')\n",
        "plt.title('Training Loss Curve')\n",
        "plt.show()"
      ],
      "metadata": {
        "colab": {
          "base_uri": "https://localhost:8080/",
          "height": 472
        },
        "id": "Zdz6BOs2WsK4",
        "outputId": "f91dfe34-3495-45b4-d3c2-5622a7ba27aa"
      },
      "execution_count": 27,
      "outputs": [
        {
          "output_type": "display_data",
          "data": {
            "text/plain": [
              "<Figure size 640x480 with 1 Axes>"
            ],
            "image/png": "[encoded data removed]"
          },
          "metadata": {}
        }
      ]
    },
    {
      "cell_type": "markdown",
      "source": [
        "PRECAUTIONS:\n",
        "\n",
        "\n",
        "*   Ensure proper normalization of input features for better convergence.\n",
        "*   Choose an appropriate learning rate to avoid slow convergence or overshooting.\n",
        "*   Monitor loss during training to detect potential overfitting or underfitting.\n",
        "*   Validate the model on a test set to assess generalization performance.\n",
        "\n",
        "\n",
        "\n"
      ],
      "metadata": {
        "id": "_tAaShs8Wwed"
      }
    },
    {
      "cell_type": "markdown",
      "source": [
        "Question 10: Write a program to generate confusion matrices for different models and analyze their performance.\n",
        "\n",
        "PREREQUISITES:\n",
        "*   Basic understanding of machine learning concepts and classification problems.\n",
        "*   Familiarity with Python, NumPy, and Pandas.\n",
        "*   Knowledge of scikit-learn for classical machine learning models.\n",
        "\n",
        "KEY POINTS:\n",
        "*   Use the Iris dataset for classification tasks.\n",
        "*   Implement Logistic Regression, K-Nearest Neighbors, and Decision Tree models.\n",
        "*   Evaluate models using confusion matrices and classification reports.\n",
        "*   Analyze performance without using deep learning frameworks like Keras, PyTorch, or TensorFlow."
      ],
      "metadata": {
        "id": "V85Q9jQWXADK"
      }
    },
    {
      "cell_type": "code",
      "source": [
        "# Importing Libraries\n",
        "import numpy as np\n",
        "import pandas as pd\n",
        "from sklearn import datasets\n",
        "from sklearn.model_selection import train_test_split\n",
        "from sklearn.preprocessing import StandardScaler\n",
        "from sklearn.linear_model import LogisticRegression\n",
        "from sklearn.neighbors import KNeighborsClassifier\n",
        "from sklearn.tree import DecisionTreeClassifier\n",
        "from sklearn.metrics import confusion_matrix, classification_report\n",
        "import matplotlib.pyplot as plt"
      ],
      "metadata": {
        "id": "VOsbctQOXwH9"
      },
      "execution_count": 28,
      "outputs": []
    },
    {
      "cell_type": "code",
      "source": [
        "# Load the Iris dataset\n",
        "iris = datasets.load_iris()\n",
        "X = iris.data\n",
        "y = iris.target"
      ],
      "metadata": {
        "id": "I9HTtIh7X5an"
      },
      "execution_count": 29,
      "outputs": []
    },
    {
      "cell_type": "code",
      "source": [
        "# Split the dataset into training and testing sets\n",
        "X_train, X_test, y_train, y_test = train_test_split(X, y, test_size=0.2, random_state=42)\n",
        "\n",
        "# Standardize the dataset\n",
        "scaler = StandardScaler()\n",
        "X_train = scaler.fit_transform(X_train)\n",
        "X_test = scaler.transform(X_test)"
      ],
      "metadata": {
        "id": "GeBru_FjX8y2"
      },
      "execution_count": 30,
      "outputs": []
    },
    {
      "cell_type": "code",
      "source": [
        "# Define models\n",
        "models = {\n",
        "    \"Logistic Regression\": LogisticRegression(max_iter=200),\n",
        "    \"K-Nearest Neighbors\": KNeighborsClassifier(n_neighbors=5),\n",
        "    \"Decision Tree\": DecisionTreeClassifier()\n",
        "}"
      ],
      "metadata": {
        "id": "oF8TxFVUYCva"
      },
      "execution_count": 31,
      "outputs": []
    },
    {
      "cell_type": "code",
      "source": [
        "# Train models, generate confusion matrices, and analyze performance\n",
        "results = {}\n",
        "for name, model in models.items():\n",
        "    model.fit(X_train, y_train)\n",
        "    y_pred = model.predict(X_test)\n",
        "\n",
        "    # Compute confusion matrix\n",
        "    cm = confusion_matrix(y_test, y_pred)\n",
        "\n",
        "    # Compute classification report\n",
        "    report = classification_report(y_test, y_pred, target_names=iris.target_names)\n",
        "\n",
        "    results[name] = {\n",
        "        \"Confusion Matrix\": cm,\n",
        "        \"Classification Report\": report\n",
        "    }"
      ],
      "metadata": {
        "id": "O1THt5f1YGjf"
      },
      "execution_count": 32,
      "outputs": []
    },
    {
      "cell_type": "code",
      "source": [
        "# Display results (confusion matrix and classification report)\n",
        "for name, result in results.items():\n",
        "    print(f\"Model: {name}\")\n",
        "    print(\"Confusion Matrix:\")\n",
        "    print(result[\"Confusion Matrix\"])\n",
        "    print(\"Classification Report:\")\n",
        "    print(result[\"Classification Report\"])\n",
        "    print(\"-\" * 50)"
      ],
      "metadata": {
        "colab": {
          "base_uri": "https://localhost:8080/"
        },
        "id": "DgfrOMayYK1z",
        "outputId": "332a6bb7-8b25-46cb-8c91-77eab3d0106c"
      },
      "execution_count": 33,
      "outputs": [
        {
          "output_type": "stream",
          "name": "stdout",
          "text": [
            "Model: Logistic Regression\n",
            "Confusion Matrix:\n",
            "[[10  0  0]\n",
            " [ 0  9  0]\n",
            " [ 0  0 11]]\n",
            "Classification Report:\n",
            "              precision    recall  f1-score   support\n",
            "\n",
            "      setosa       1.00      1.00      1.00        10\n",
            "  versicolor       1.00      1.00      1.00         9\n",
            "   virginica       1.00      1.00      1.00        11\n",
            "\n",
            "    accuracy                           1.00        30\n",
            "   macro avg       1.00      1.00      1.00        30\n",
            "weighted avg       1.00      1.00      1.00        30\n",
            "\n",
            "--------------------------------------------------\n",
            "Model: K-Nearest Neighbors\n",
            "Confusion Matrix:\n",
            "[[10  0  0]\n",
            " [ 0  9  0]\n",
            " [ 0  0 11]]\n",
            "Classification Report:\n",
            "              precision    recall  f1-score   support\n",
            "\n",
            "      setosa       1.00      1.00      1.00        10\n",
            "  versicolor       1.00      1.00      1.00         9\n",
            "   virginica       1.00      1.00      1.00        11\n",
            "\n",
            "    accuracy                           1.00        30\n",
            "   macro avg       1.00      1.00      1.00        30\n",
            "weighted avg       1.00      1.00      1.00        30\n",
            "\n",
            "--------------------------------------------------\n",
            "Model: Decision Tree\n",
            "Confusion Matrix:\n",
            "[[10  0  0]\n",
            " [ 0  9  0]\n",
            " [ 0  0 11]]\n",
            "Classification Report:\n",
            "              precision    recall  f1-score   support\n",
            "\n",
            "      setosa       1.00      1.00      1.00        10\n",
            "  versicolor       1.00      1.00      1.00         9\n",
            "   virginica       1.00      1.00      1.00        11\n",
            "\n",
            "    accuracy                           1.00        30\n",
            "   macro avg       1.00      1.00      1.00        30\n",
            "weighted avg       1.00      1.00      1.00        30\n",
            "\n",
            "--------------------------------------------------\n"
          ]
        }
      ]
    },
    {
      "cell_type": "code",
      "source": [
        "import matplotlib.pyplot as plt\n",
        "from sklearn import datasets\n",
        "\n",
        "# Load the Iris dataset (again in this cell)\n",
        "iris = datasets.load_iris()\n",
        "X = iris.data\n",
        "y = iris.target\n",
        "\n",
        "# Assuming 'X' has at least two features (e.g., sepal length and sepal width)\n",
        "plt.scatter(X[:, 0], X[:, 1], c=y)  # Color points by their class (y)\n",
        "plt.xlabel(iris.feature_names[0])  # Label for x-axis\n",
        "plt.ylabel(iris.feature_names[1])  # Label for y-axis\n",
        "plt.title(\"Scatter Plot of Iris Data\")  # Title of the plot\n",
        "plt.show()  # Display the plot"
      ],
      "metadata": {
        "colab": {
          "base_uri": "https://localhost:8080/",
          "height": 472
        },
        "id": "GCm--Vd5YST7",
        "outputId": "5edb7f83-a821-45ff-989c-663d453f944d"
      },
      "execution_count": 34,
      "outputs": [
        {
          "output_type": "display_data",
          "data": {
            "text/plain": [
              "<Figure size 640x480 with 1 Axes>"
            ],
            "image/png": "[encoded data removed]"
          },
          "metadata": {}
        }
      ]
    },
    {
      "cell_type": "markdown",
      "source": [
        "PRECAUTIONS:\n",
        "*   Ensure data is properly preprocessed and standardized before training models.\n",
        "*   Use appropriate train-test splits to prevent overfitting.\n",
        "*   Validate model performance using multiple metrics (not just accuracy).\n",
        "*   Check for class imbalances that may affect classification results."
      ],
      "metadata": {
        "id": "awKvTAsJYXfy"
      }
    }
  ]
}